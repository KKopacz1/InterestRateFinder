{
 "cells": [
  {
   "cell_type": "code",
   "execution_count": 1,
   "metadata": {
    "collapsed": true
   },
   "outputs": [],
   "source": [
    "import pandas as pd\n",
    "import numpy as np"
   ]
  },
  {
   "cell_type": "code",
   "execution_count": 2,
   "metadata": {
    "collapsed": true
   },
   "outputs": [],
   "source": [
    "#loan= pd.read_csv(\"Final.csv\",low_memory=False)"
   ]
  },
  {
   "cell_type": "code",
   "execution_count": 6,
   "metadata": {
    "collapsed": true
   },
   "outputs": [],
   "source": [
    "\n",
    "#loan['Int_Rate'] = loan['Int_Rate']*100\n",
    "\n",
    "#loan = loan[np.isfinite(loan['Int_Rate'])]\n",
    "\n",
    "\n",
    "#loan.head()\n",
    "#loan.to_csv(\"Loan_Data.csv\")"
   ]
  },
  {
   "cell_type": "code",
   "execution_count": 21,
   "metadata": {
    "scrolled": true
   },
   "outputs": [
    {
     "name": "stdout",
     "output_type": "stream",
     "text": [
      "5.32\n"
     ]
    },
    {
     "data": {
      "text/html": [
       "<div>\n",
       "<style>\n",
       "    .dataframe thead tr:only-child th {\n",
       "        text-align: right;\n",
       "    }\n",
       "\n",
       "    .dataframe thead th {\n",
       "        text-align: left;\n",
       "    }\n",
       "\n",
       "    .dataframe tbody tr th {\n",
       "        vertical-align: top;\n",
       "    }\n",
       "</style>\n",
       "<table border=\"1\" class=\"dataframe\">\n",
       "  <thead>\n",
       "    <tr style=\"text-align: right;\">\n",
       "      <th></th>\n",
       "      <th>Int_Rate</th>\n",
       "      <th>Investment</th>\n",
       "      <th>Term</th>\n",
       "      <th>Grade</th>\n",
       "      <th>Employment_Len</th>\n",
       "      <th>Home_Ownership</th>\n",
       "      <th>Annual_Income</th>\n",
       "      <th>Purpose</th>\n",
       "      <th>State</th>\n",
       "      <th>Debt_To_Income</th>\n",
       "      <th>Delinquance_2year</th>\n",
       "    </tr>\n",
       "  </thead>\n",
       "  <tbody>\n",
       "    <tr>\n",
       "      <th>0</th>\n",
       "      <td>5.32</td>\n",
       "      <td>4800.0</td>\n",
       "      <td>36</td>\n",
       "      <td>A</td>\n",
       "      <td>2 years</td>\n",
       "      <td>MORTGAGE</td>\n",
       "      <td>143000.0</td>\n",
       "      <td>medical</td>\n",
       "      <td>KY</td>\n",
       "      <td>7.88</td>\n",
       "      <td>0</td>\n",
       "    </tr>\n",
       "    <tr>\n",
       "      <th>1</th>\n",
       "      <td>16.02</td>\n",
       "      <td>16000.0</td>\n",
       "      <td>60</td>\n",
       "      <td>C</td>\n",
       "      <td>9 years</td>\n",
       "      <td>MORTGAGE</td>\n",
       "      <td>40000.0</td>\n",
       "      <td>debt_consolidation</td>\n",
       "      <td>TN</td>\n",
       "      <td>32.01</td>\n",
       "      <td>0</td>\n",
       "    </tr>\n",
       "    <tr>\n",
       "      <th>2</th>\n",
       "      <td>11.99</td>\n",
       "      <td>32600.0</td>\n",
       "      <td>36</td>\n",
       "      <td>B</td>\n",
       "      <td>&lt; 1 year</td>\n",
       "      <td>RENT</td>\n",
       "      <td>55000.0</td>\n",
       "      <td>house</td>\n",
       "      <td>CA</td>\n",
       "      <td>25.41</td>\n",
       "      <td>0</td>\n",
       "    </tr>\n",
       "    <tr>\n",
       "      <th>3</th>\n",
       "      <td>6.08</td>\n",
       "      <td>10000.0</td>\n",
       "      <td>36</td>\n",
       "      <td>A</td>\n",
       "      <td>7 years</td>\n",
       "      <td>MORTGAGE</td>\n",
       "      <td>54000.0</td>\n",
       "      <td>car</td>\n",
       "      <td>NY</td>\n",
       "      <td>0.56</td>\n",
       "      <td>0</td>\n",
       "    </tr>\n",
       "    <tr>\n",
       "      <th>4</th>\n",
       "      <td>5.32</td>\n",
       "      <td>9000.0</td>\n",
       "      <td>36</td>\n",
       "      <td>A</td>\n",
       "      <td>10+ years</td>\n",
       "      <td>OWN</td>\n",
       "      <td>158000.0</td>\n",
       "      <td>credit_card</td>\n",
       "      <td>NY</td>\n",
       "      <td>6.74</td>\n",
       "      <td>0</td>\n",
       "    </tr>\n",
       "  </tbody>\n",
       "</table>\n",
       "</div>"
      ],
      "text/plain": [
       "   Int_Rate  Investment  Term Grade Employment_Len Home_Ownership  \\\n",
       "0      5.32      4800.0    36     A        2 years       MORTGAGE   \n",
       "1     16.02     16000.0    60     C        9 years       MORTGAGE   \n",
       "2     11.99     32600.0    36     B       < 1 year           RENT   \n",
       "3      6.08     10000.0    36     A        7 years       MORTGAGE   \n",
       "4      5.32      9000.0    36     A      10+ years            OWN   \n",
       "\n",
       "   Annual_Income             Purpose State  Debt_To_Income  Delinquance_2year  \n",
       "0       143000.0             medical    KY            7.88                  0  \n",
       "1        40000.0  debt_consolidation    TN           32.01                  0  \n",
       "2        55000.0               house    CA           25.41                  0  \n",
       "3        54000.0                 car    NY            0.56                  0  \n",
       "4       158000.0         credit_card    NY            6.74                  0  "
      ]
     },
     "execution_count": 21,
     "metadata": {},
     "output_type": "execute_result"
    }
   ],
   "source": [
    "loan = pd.read_csv(\"Loan_Data.csv\")\n",
    "\n",
    "print(loan['Int_Rate'][0])\n",
    "loan.head()\n"
   ]
  },
  {
   "cell_type": "code",
   "execution_count": null,
   "metadata": {
    "collapsed": true
   },
   "outputs": [],
   "source": [
    "loan['Int_Rate']=loan['Int_Rate'].round(decimals=2)"
   ]
  },
  {
   "cell_type": "code",
   "execution_count": 18,
   "metadata": {
    "collapsed": true
   },
   "outputs": [],
   "source": [
    "#loan.to_csv(\"Loan_Data.csv\",index=False)"
   ]
  },
  {
   "cell_type": "markdown",
   "metadata": {},
   "source": [
    "## DATA PREPROCESSING"
   ]
  },
  {
   "cell_type": "code",
   "execution_count": 3,
   "metadata": {},
   "outputs": [
    {
     "name": "stdout",
     "output_type": "stream",
     "text": [
      "float64\n",
      "float64\n",
      "int64\n",
      "int64\n",
      "int64\n",
      "int64\n",
      "float64\n",
      "int64\n",
      "int64\n",
      "float64\n",
      "int64\n"
     ]
    }
   ],
   "source": [
    "from sklearn.preprocessing import LabelEncoder, StandardScaler\n",
    "\n",
    "\n",
    "for column in loan.columns:\n",
    "    \n",
    "    if loan[column].dtype == type(object):\n",
    "        le = LabelEncoder()\n",
    "        loan[column]=le.fit_transform(loan[column].astype(str))\n",
    "    print(loan[column].dtype)\n",
    "        \n",
    "        \n",
    "    \n"
   ]
  },
  {
   "cell_type": "code",
   "execution_count": 7,
   "metadata": {},
   "outputs": [
    {
     "data": {
      "text/plain": [
       "Int_Rate             464745\n",
       "Investment           464745\n",
       "Term                 464745\n",
       "Grade                464745\n",
       "Employment_Len       464745\n",
       "Home_Ownership       464745\n",
       "Annual_Income        464745\n",
       "Purpose              464745\n",
       "State                464745\n",
       "Debt_To_Income       464745\n",
       "Delinquance_2year    464745\n",
       "dtype: int64"
      ]
     },
     "execution_count": 7,
     "metadata": {},
     "output_type": "execute_result"
    }
   ],
   "source": [
    "#loan.columns\n",
    "#loan.count()\n",
    "\n",
    "\n",
    "## GET RID OF THE ROWS WITH NANs IN THIS COLUMN\n",
    "loan = loan[np.isfinite(loan['Debt_To_Income'])]\n",
    "\n",
    "loan.count()\n"
   ]
  },
  {
   "cell_type": "code",
   "execution_count": 8,
   "metadata": {},
   "outputs": [
    {
     "name": "stdout",
     "output_type": "stream",
     "text": [
      "(464745, 10) (464745,)\n"
     ]
    }
   ],
   "source": [
    "\n",
    "\n",
    "#x are entire dataset fields short of the one we are predicting(Interest rate), dropped \n",
    "X=loan.drop(\"Int_Rate\",axis=1)\n",
    "y=loan[\"Int_Rate\"]\n",
    "print(X.shape,y.shape)"
   ]
  },
  {
   "cell_type": "code",
   "execution_count": 9,
   "metadata": {},
   "outputs": [
    {
     "name": "stderr",
     "output_type": "stream",
     "text": [
      "Using TensorFlow backend.\n"
     ]
    }
   ],
   "source": [
    "#import deeplearning modules\n",
    "from sklearn.model_selection import train_test_split\n",
    "from sklearn.preprocessing import LabelEncoder, StandardScaler\n",
    "from keras.utils import to_categorical\n",
    "\n",
    "#split data into training and test sets\n",
    "X_train, X_test, y_train, y_test = train_test_split(X, y, random_state=1, stratify=y)\n",
    "\n",
    "X_scaler = StandardScaler().fit(X_train)\n",
    "\n",
    "X_train_scaled = X_scaler.transform(X_train)\n",
    "X_test_scaled = X_scaler.transform(X_test)\n",
    "\n",
    "\n",
    "# Step 1: Label-encode data set\n",
    "label_encoder = LabelEncoder()\n",
    "label_encoder.fit(y_train)\n",
    "\n",
    "encoded_y_train = label_encoder.transform(y_train)\n",
    "encoded_y_test = label_encoder.transform(y_test)\n",
    "\n",
    "\n",
    "# Step 2: Convert encoded labels to one-hot-encoding\n",
    "y_train_categorical = to_categorical(encoded_y_train)\n",
    "y_test_categorical = to_categorical(encoded_y_test)"
   ]
  },
  {
   "cell_type": "code",
   "execution_count": 13,
   "metadata": {
    "collapsed": true
   },
   "outputs": [],
   "source": [
    "#import statements\n",
    "from keras.models import Sequential\n",
    "from keras.layers import Dense\n",
    "\n",
    "\n",
    "#add more layers where needed\n",
    "model = Sequential()\n",
    "\n",
    "model.add(Dense(units=100, activation='relu', input_dim=10))\n",
    "\n",
    "model.add(Dense(units=100, activation='relu'))\n",
    "model.add(Dense(units=100, activation='relu'))\n",
    "model.add(Dense(units=100, activation='relu'))\n",
    "model.add(Dense(units=100, activation='relu'))\n",
    "\n",
    "\n",
    "#**********need to change number of nodes after I'm able to scale all X categories*****\n",
    "model.add(Dense(units=67, activation='softmax'))"
   ]
  },
  {
   "cell_type": "code",
   "execution_count": 14,
   "metadata": {},
   "outputs": [
    {
     "name": "stdout",
     "output_type": "stream",
     "text": [
      "Epoch 1/60\n",
      " - 37s - loss: 1.9710 - acc: 0.2146\n",
      "Epoch 2/60\n",
      " - 19s - loss: 1.9254 - acc: 0.2257\n",
      "Epoch 3/60\n",
      " - 19s - loss: 1.9203 - acc: 0.2285\n",
      "Epoch 4/60\n",
      " - 18s - loss: 1.9174 - acc: 0.2297\n",
      "Epoch 5/60\n",
      " - 18s - loss: 1.9163 - acc: 0.2310\n",
      "Epoch 6/60\n",
      " - 19s - loss: 1.9149 - acc: 0.2319\n",
      "Epoch 7/60\n",
      " - 19s - loss: 1.9139 - acc: 0.2319\n",
      "Epoch 8/60\n",
      " - 18s - loss: 1.9138 - acc: 0.2321\n",
      "Epoch 9/60\n",
      " - 19s - loss: 1.9135 - acc: 0.2333\n",
      "Epoch 10/60\n",
      " - 19s - loss: 1.9129 - acc: 0.2331\n",
      "Epoch 11/60\n",
      " - 20s - loss: 1.9124 - acc: 0.2337\n",
      "Epoch 12/60\n",
      " - 20s - loss: 1.9120 - acc: 0.2334\n",
      "Epoch 13/60\n",
      " - 19s - loss: 1.9114 - acc: 0.2341\n",
      "Epoch 14/60\n",
      " - 19s - loss: 1.9121 - acc: 0.2337\n",
      "Epoch 15/60\n",
      " - 20s - loss: 1.9121 - acc: 0.2339\n",
      "Epoch 16/60\n",
      " - 19s - loss: 1.9121 - acc: 0.2345\n",
      "Epoch 17/60\n",
      " - 19s - loss: 1.9105 - acc: 0.2345\n",
      "Epoch 18/60\n",
      " - 19s - loss: 1.9111 - acc: 0.2353\n",
      "Epoch 19/60\n",
      " - 19s - loss: 1.9105 - acc: 0.2348\n",
      "Epoch 20/60\n",
      " - 19s - loss: 1.9103 - acc: 0.2341\n",
      "Epoch 21/60\n",
      " - 19s - loss: 1.9102 - acc: 0.2352\n",
      "Epoch 22/60\n",
      " - 20s - loss: 1.9105 - acc: 0.2354\n",
      "Epoch 23/60\n",
      " - 19s - loss: 1.9097 - acc: 0.2351\n",
      "Epoch 24/60\n",
      " - 19s - loss: 1.9091 - acc: 0.2349\n",
      "Epoch 25/60\n",
      " - 19s - loss: 1.9095 - acc: 0.2353\n",
      "Epoch 26/60\n",
      " - 19s - loss: 1.9095 - acc: 0.2348\n",
      "Epoch 27/60\n",
      " - 19s - loss: 1.9097 - acc: 0.2351\n",
      "Epoch 28/60\n",
      " - 18s - loss: 1.9089 - acc: 0.2359\n",
      "Epoch 29/60\n",
      " - 19s - loss: 1.9091 - acc: 0.2352\n",
      "Epoch 30/60\n",
      " - 19s - loss: 1.9087 - acc: 0.2360\n",
      "Epoch 31/60\n",
      " - 19s - loss: 1.9081 - acc: 0.2362\n",
      "Epoch 32/60\n",
      " - 19s - loss: 1.9086 - acc: 0.2358\n",
      "Epoch 33/60\n",
      " - 19s - loss: 1.9091 - acc: 0.2363\n",
      "Epoch 34/60\n",
      " - 19s - loss: 1.9084 - acc: 0.2362\n",
      "Epoch 35/60\n",
      " - 19s - loss: 1.9079 - acc: 0.2367\n",
      "Epoch 36/60\n",
      " - 19s - loss: 1.9088 - acc: 0.2359\n",
      "Epoch 37/60\n",
      " - 19s - loss: 1.9083 - acc: 0.2359\n",
      "Epoch 38/60\n",
      " - 20s - loss: 1.9078 - acc: 0.2364\n",
      "Epoch 39/60\n",
      " - 19s - loss: 1.9075 - acc: 0.2365\n",
      "Epoch 40/60\n",
      " - 19s - loss: 1.9081 - acc: 0.2365\n",
      "Epoch 41/60\n",
      " - 19s - loss: 1.9092 - acc: 0.2370\n",
      "Epoch 42/60\n",
      " - 20s - loss: 1.9085 - acc: 0.2359\n",
      "Epoch 43/60\n",
      " - 22s - loss: 1.9078 - acc: 0.2375\n",
      "Epoch 44/60\n",
      " - 19s - loss: 1.9080 - acc: 0.2369\n",
      "Epoch 45/60\n",
      " - 18s - loss: 1.9108 - acc: 0.2362\n",
      "Epoch 46/60\n",
      " - 20s - loss: 1.9080 - acc: 0.2362\n",
      "Epoch 47/60\n",
      " - 19s - loss: 1.9075 - acc: 0.2369\n",
      "Epoch 48/60\n",
      " - 19s - loss: 1.9074 - acc: 0.2365\n",
      "Epoch 49/60\n",
      " - 19s - loss: 1.9093 - acc: 0.2361\n",
      "Epoch 50/60\n",
      " - 19s - loss: 1.9079 - acc: 0.2366\n",
      "Epoch 51/60\n",
      " - 19s - loss: 1.9086 - acc: 0.2360\n",
      "Epoch 52/60\n",
      " - 20s - loss: 1.9075 - acc: 0.2360\n",
      "Epoch 53/60\n",
      " - 20s - loss: 1.9081 - acc: 0.2358\n",
      "Epoch 54/60\n",
      " - 19s - loss: 1.9081 - acc: 0.2372\n",
      "Epoch 55/60\n",
      " - 20s - loss: 1.9081 - acc: 0.2368\n",
      "Epoch 56/60\n",
      " - 20s - loss: 1.9080 - acc: 0.2359\n",
      "Epoch 57/60\n",
      " - 19s - loss: 1.9088 - acc: 0.2364\n",
      "Epoch 58/60\n",
      " - 20s - loss: 1.9074 - acc: 0.2355\n",
      "Epoch 59/60\n",
      " - 19s - loss: 1.9084 - acc: 0.2362\n",
      "Epoch 60/60\n",
      " - 20s - loss: 1.9123 - acc: 0.2366\n"
     ]
    },
    {
     "data": {
      "text/plain": [
       "<keras.callbacks.History at 0x1e49508cf60>"
      ]
     },
     "execution_count": 14,
     "metadata": {},
     "output_type": "execute_result"
    }
   ],
   "source": [
    "#Compile the model - CHANGE EPOCHS\n",
    "model.compile(optimizer='adam', \n",
    "              loss='categorical_crossentropy', \n",
    "              metrics=['accuracy'])\n",
    "\n",
    "\n",
    "model.fit(\n",
    "    X_train_scaled,\n",
    "    y_train_categorical,\n",
    "    epochs=60,\n",
    "    shuffle=True,\n",
    "    verbose=2\n",
    ")\n"
   ]
  },
  {
   "cell_type": "code",
   "execution_count": 15,
   "metadata": {},
   "outputs": [
    {
     "name": "stdout",
     "output_type": "stream",
     "text": [
      "Normal Neural Network - Loss: 1.9192503390303206, Accuracy: 0.23054214326621889\n"
     ]
    }
   ],
   "source": [
    "model_loss, model_accuracy = model.evaluate(X_test_scaled, y_test_categorical, verbose=2)\n",
    "\n",
    "print(f\"Normal Neural Network - Loss: {model_loss}, Accuracy: {model_accuracy}\")"
   ]
  },
  {
   "cell_type": "code",
   "execution_count": 16,
   "metadata": {},
   "outputs": [
    {
     "name": "stdout",
     "output_type": "stream",
     "text": [
      "Predicted Interest Rate: [ 15.05  12.62  15.05   7.35   5.32]\n",
      "Actual Interest Rate: [15.050000000000001, 14.08, 13.59, 5.3199999999999985, 7.9699999999999989]\n"
     ]
    }
   ],
   "source": [
    "#prediction testing\n",
    "encoded_predictions = model.predict_classes(X_test_scaled[:5])\n",
    "\n",
    "prediction_labels = label_encoder.inverse_transform(encoded_predictions)\n",
    "\n",
    "print(f\"Predicted Interest Rate: {prediction_labels}\")\n",
    "print(f\"Actual Interest Rate: {list(y_test[:5])}\")"
   ]
  },
  {
   "cell_type": "code",
   "execution_count": 17,
   "metadata": {
    "collapsed": true
   },
   "outputs": [],
   "source": [
    "# Save the model\n",
    "model.save(\"loan_model_trained.h5\")"
   ]
  },
  {
   "cell_type": "markdown",
   "metadata": {
    "collapsed": true
   },
   "source": [
    "## Logistical Regression Testing\n"
   ]
  },
  {
   "cell_type": "code",
   "execution_count": 18,
   "metadata": {},
   "outputs": [
    {
     "data": {
      "text/plain": [
       "LogisticRegression(C=1.0, class_weight=None, dual=False, fit_intercept=True,\n",
       "          intercept_scaling=1, max_iter=100, multi_class='ovr', n_jobs=1,\n",
       "          penalty='l2', random_state=None, solver='liblinear', tol=0.0001,\n",
       "          verbose=0, warm_start=False)"
      ]
     },
     "execution_count": 18,
     "metadata": {},
     "output_type": "execute_result"
    }
   ],
   "source": [
    "from sklearn.linear_model import LogisticRegression\n",
    "classifier = LogisticRegression()\n",
    "classifier\n",
    "\n"
   ]
  },
  {
   "cell_type": "code",
   "execution_count": 19,
   "metadata": {},
   "outputs": [
    {
     "ename": "ValueError",
     "evalue": "Unknown label type: 'continuous'",
     "output_type": "error",
     "traceback": [
      "\u001b[1;31m---------------------------------------------------------------------------\u001b[0m",
      "\u001b[1;31mValueError\u001b[0m                                Traceback (most recent call last)",
      "\u001b[1;32m<ipython-input-19-f901c04037b3>\u001b[0m in \u001b[0;36m<module>\u001b[1;34m()\u001b[0m\n\u001b[1;32m----> 1\u001b[1;33m \u001b[0mclassifier\u001b[0m\u001b[1;33m.\u001b[0m\u001b[0mfit\u001b[0m\u001b[1;33m(\u001b[0m\u001b[0mX_train\u001b[0m\u001b[1;33m,\u001b[0m \u001b[0my_train\u001b[0m\u001b[1;33m)\u001b[0m\u001b[1;33m\u001b[0m\u001b[0m\n\u001b[0m",
      "\u001b[1;32m~\\Anaconda3\\lib\\site-packages\\sklearn\\linear_model\\logistic.py\u001b[0m in \u001b[0;36mfit\u001b[1;34m(self, X, y, sample_weight)\u001b[0m\n\u001b[0;32m   1215\u001b[0m         X, y = check_X_y(X, y, accept_sparse='csr', dtype=_dtype,\n\u001b[0;32m   1216\u001b[0m                          order=\"C\")\n\u001b[1;32m-> 1217\u001b[1;33m         \u001b[0mcheck_classification_targets\u001b[0m\u001b[1;33m(\u001b[0m\u001b[0my\u001b[0m\u001b[1;33m)\u001b[0m\u001b[1;33m\u001b[0m\u001b[0m\n\u001b[0m\u001b[0;32m   1218\u001b[0m         \u001b[0mself\u001b[0m\u001b[1;33m.\u001b[0m\u001b[0mclasses_\u001b[0m \u001b[1;33m=\u001b[0m \u001b[0mnp\u001b[0m\u001b[1;33m.\u001b[0m\u001b[0munique\u001b[0m\u001b[1;33m(\u001b[0m\u001b[0my\u001b[0m\u001b[1;33m)\u001b[0m\u001b[1;33m\u001b[0m\u001b[0m\n\u001b[0;32m   1219\u001b[0m         \u001b[0mn_samples\u001b[0m\u001b[1;33m,\u001b[0m \u001b[0mn_features\u001b[0m \u001b[1;33m=\u001b[0m \u001b[0mX\u001b[0m\u001b[1;33m.\u001b[0m\u001b[0mshape\u001b[0m\u001b[1;33m\u001b[0m\u001b[0m\n",
      "\u001b[1;32m~\\Anaconda3\\lib\\site-packages\\sklearn\\utils\\multiclass.py\u001b[0m in \u001b[0;36mcheck_classification_targets\u001b[1;34m(y)\u001b[0m\n\u001b[0;32m    170\u001b[0m     if y_type not in ['binary', 'multiclass', 'multiclass-multioutput',\n\u001b[0;32m    171\u001b[0m                       'multilabel-indicator', 'multilabel-sequences']:\n\u001b[1;32m--> 172\u001b[1;33m         \u001b[1;32mraise\u001b[0m \u001b[0mValueError\u001b[0m\u001b[1;33m(\u001b[0m\u001b[1;34m\"Unknown label type: %r\"\u001b[0m \u001b[1;33m%\u001b[0m \u001b[0my_type\u001b[0m\u001b[1;33m)\u001b[0m\u001b[1;33m\u001b[0m\u001b[0m\n\u001b[0m\u001b[0;32m    173\u001b[0m \u001b[1;33m\u001b[0m\u001b[0m\n\u001b[0;32m    174\u001b[0m \u001b[1;33m\u001b[0m\u001b[0m\n",
      "\u001b[1;31mValueError\u001b[0m: Unknown label type: 'continuous'"
     ]
    }
   ],
   "source": [
    "classifier.fit(X_train, y_train)"
   ]
  },
  {
   "cell_type": "code",
   "execution_count": null,
   "metadata": {
    "collapsed": true
   },
   "outputs": [],
   "source": [
    "print(f\"Training Data Score: {classifier.score(X_train, y_train)}\")\n",
    "print(f\"Testing Data Score: {classifier.score(X_test, y_test)}\")"
   ]
  },
  {
   "cell_type": "code",
   "execution_count": null,
   "metadata": {
    "collapsed": true
   },
   "outputs": [],
   "source": [
    "predictions = classifier.predict(X_test)\n",
    "print(f\"First 10 Predictions:   {predictions[:10]}\")\n",
    "print(f\"First 10 Actual labels: {y_test[:10].tolist()}\")"
   ]
  },
  {
   "cell_type": "code",
   "execution_count": null,
   "metadata": {
    "collapsed": true
   },
   "outputs": [],
   "source": []
  }
 ],
 "metadata": {
  "kernelspec": {
   "display_name": "Python 3",
   "language": "python",
   "name": "python3"
  },
  "language_info": {
   "codemirror_mode": {
    "name": "ipython",
    "version": 3
   },
   "file_extension": ".py",
   "mimetype": "text/x-python",
   "name": "python",
   "nbconvert_exporter": "python",
   "pygments_lexer": "ipython3",
   "version": "3.6.3"
  }
 },
 "nbformat": 4,
 "nbformat_minor": 2
}
